{
 "cells": [
  {
   "cell_type": "code",
   "execution_count": null,
   "metadata": {},
   "outputs": [],
   "source": [
    "def counter(fn):\n",
    "    def printCounter(i):\n",
    "        print(\"Hello Aiffel!\")\n",
    "        fn(i)\n",
    "    return printCounter\n",
    "\n",
    "@counter\n",
    "def say_hello(i):\n",
    "    print(\"say_hello 실행횟수:\", i + 1)\n",
    "\n",
    "for i in range(5):\n",
    "    say_hello(i)"
   ]
  }
 ],
 "metadata": {
  "language_info": {
   "name": "python"
  }
 },
 "nbformat": 4,
 "nbformat_minor": 2
}
