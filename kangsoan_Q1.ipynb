{
 "cells": [
  {
   "cell_type": "code",
   "execution_count": null,
   "metadata": {},
   "outputs": [],
   "source": [
    "def find_min_max(numbers):\n",
    "    # min_value와 max_value 변수를 초기화\n",
    "    # min_value는 양의 무한대(float('inf'))로 초기화하여 어떤 숫자보다도 큰 값으로 설정\n",
    "    min_value = float('inf')\n",
    "    # max_value는 음의 무한대(float('-inf'))로 초기화하여 어떤 숫자보다도 작은 값으로 설정\n",
    "    max_value = float('-inf')\n",
    "\n",
    "    def update_min_max(num):\n",
    "        # 외부함수의 변수인 min_value, max_value 참조\n",
    "        nonlocal min_value\n",
    "        nonlocal max_value\n",
    "\n",
    "        # 만약 num 값이 min_value보다 작다면 min_value를 num 값으로 변경\n",
    "        if num < min_value:\n",
    "          min_value = num\n",
    "\n",
    "        # 만약 num 값이 max_value보다 크다면 max_value를 num 값으로 변경\n",
    "        if num > max_value:\n",
    "          max_value = num\n",
    "\n",
    "    # numbers 리스트의 모든 값을 순환하며 최댓값과 최솟값 업데이트\n",
    "    for num in numbers:\n",
    "        update_min_max(num)\n",
    "\n",
    "    # 최솟값을 반환하는 내부함수\n",
    "    def get_min():\n",
    "      return min_value\n",
    "\n",
    "    # 최댓값을 반환하는 내부함수\n",
    "    def get_max():\n",
    "      return max_value\n",
    "\n",
    "    # 외부함수는 내부함수(get_min()과 get_max())를 반환\n",
    "    return get_min, get_max\n",
    "\n",
    "numbers = [10, 5, 8, 12, 3, 7]\n",
    "find_min, find_max = find_min_max(numbers)\n",
    "\n",
    "print(\"최솟값:\", find_min())  # 3\n",
    "print(\"최댓값:\", find_max())  # 12"
   ]
  }
 ],
 "metadata": {
  "language_info": {
   "name": "python"
  }
 },
 "nbformat": 4,
 "nbformat_minor": 2
}
