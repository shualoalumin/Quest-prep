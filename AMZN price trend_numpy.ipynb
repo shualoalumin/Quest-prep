{
    "cells": [
        {
            "cell_type": "code",
            "execution_count": null,
            "metadata": {},
            "outputs": [],
            "source": [
                "from datetime import datetime\n",
                "import pandas as pd\n",
                "import os\n",
                "import matplotlib.pyplot as plt\n",
                "\n",
                "# 그래프 데이터 \n",
                "csv_path = \"./data/AMZN.csv\"\n",
                "data = pd.read_csv(csv_path, index_col=0, parse_dates=True)\n",
                "price = data['High']\n",
                "\n",
                "plt.style.use('default')\n",
                "\n",
                "# 축 그리기 및 좌표축 설정\n",
                "fig = plt.figure()\n",
                "ax = fig.add_subplot(1,1,1)\n",
                "price.plot(ax=ax, style='black')\n",
                "plt.ylim([1500,2400])\n",
                "plt.xlim(['2019-05-01', '2020-03-01'])\n",
                "\n",
                "# 날짜 정보를 python datetime 자료형으로 변환\n",
                "min_date = price.idxmin().to_pydatetime()\n",
                "max_date = price.idxmax().to_pydatetime()\n",
                "min_price = price.min()\n",
                "max_price = price.max()\n",
                "\n",
                "# 주석달기\n",
                "ax.annotate(f\"peak: ${max_price:.2f}\\n{max_date:%Y-%m-%d}\", \n",
                "            xy=(max_date, price.asof(max_date)+10), \n",
                "            xytext=(max_date, price.asof(max_date)+100), \n",
                "            color='red', fontsize=9,\n",
                "            ha='center',\n",
                "            arrowprops=dict(arrowstyle='fancy',facecolor='red', edgecolor='red'))\n",
                "\n",
                "ax.annotate(f\"low: ${min_price:.2f}\\n{min_date:%Y-%m-%d}\", \n",
                "            xy=(min_date, price.asof(min_date)-10), \n",
                "            xytext=(min_date, price.asof(min_date)-100), \n",
                "            color='red', fontsize=9,\n",
                "            ha='center', va='top',\n",
                "            arrowprops=dict(arrowstyle='fancy',facecolor='red', edgecolor='red'))\n",
                "\n",
                "\n",
                "# 그리드, 타이틀 달기\n",
                "plt.grid()\n",
                "ax.set_title('AMZN Daily High Price Trend')\n",
                "\n",
                "# 보여주기\n",
                "plt.show()"
            ]
        }
    ],
    "metadata": {
        "anaconda-cloud": {},
        "kernelspec": {
            "display_name": "Python 3",
            "language": "python",
            "name": "python3"
        },
        "language_info": {
            "codemirror_mode": {
                "name": "ipython",
                "version": 3
            },
            "file_extension": ".py",
            "mimetype": "text/x-python",
            "name": "python",
            "nbconvert_exporter": "python",
            "pygments_lexer": "ipython3",
            "version": "3.13.0"
        }
    },
    "nbformat": 4,
    "nbformat_minor": 4
}
